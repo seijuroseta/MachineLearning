{
 "cells": [
  {
   "cell_type": "code",
   "execution_count": 54,
   "metadata": {
    "collapsed": false,
    "pycharm": {
     "name": "#%%\n"
    }
   },
   "outputs": [],
   "source": [
    "import string\n",
    "import os\n",
    "\n",
    "import pandas as pd\n",
    "from pandas import to_pickle, read_pickle\n",
    "from sklearn.metrics import accuracy_score, \\\n",
    "    precision_score, \\\n",
    "    recall_score, \\\n",
    "    ConfusionMatrixDisplay, \\\n",
    "    f1_score\n",
    "from sklearn.feature_extraction.text import TfidfVectorizer\n",
    "from sklearn.linear_model import LogisticRegression\n",
    "from nltk.corpus import stopwords\n",
    "from nltk.tokenize import word_tokenize\n",
    "from nltk.stem import SnowballStemmer\n",
    "import re\n",
    "import matplotlib.pyplot as plt"
   ]
  },
  {
   "cell_type": "code",
   "execution_count": 55,
   "metadata": {
    "collapsed": false,
    "pycharm": {
     "name": "#%%\n"
    }
   },
   "outputs": [],
   "source": [
    "#Function to load the data from the dataset into the notebook. Will be called twice - for train and test.\n",
    "def get_data(data_dir):\n",
    "    texts = []  # list of text samples\n",
    "    labels_index = {'pos':1, 'neg':0}  # dictionary mapping label name to numeric id\n",
    "    tone = []\n",
    "    score = []\n",
    "    for name in sorted(os.listdir(data_dir)):\n",
    "        path = os.path.join(data_dir, name)\n",
    "        if os.path.isdir(path):\n",
    "            if name=='pos' or name=='neg':\n",
    "                label_id = labels_index[name]\n",
    "                for fname in sorted(os.listdir(path)):\n",
    "                        fpath = os.path.join(path, fname)\n",
    "                        text = open(fpath,encoding='utf8').read()\n",
    "                        texts.append(text)\n",
    "                        tone.append(label_id)\n",
    "                        score.append(re.search(\"_(\\d+)\",fname)[1])\n",
    "    return texts, tone, score\n",
    "\n",
    "X_train, y1_tone_train, y2_score_train = get_data('aclImdb/train')\n",
    "X_test, y1_tone_test, y2_score_test = get_data('aclImdb/test')"
   ]
  },
  {
   "cell_type": "code",
   "execution_count": 56,
   "metadata": {
    "collapsed": false,
    "pycharm": {
     "name": "#%%\n"
    }
   },
   "outputs": [
    {
     "name": "stdout",
     "output_type": "stream",
     "text": [
      "The most hillarious and funny Brooks movie I ever seen. I can watch and re-watch the tape 100 times. I laugh my a** off and I cry on some moments. It is really good and funny movie, and if you like Brooks - this is a must! In short - Brooks (billionare) gets to the streets as homeless for 30 days in order to win the entire poor district from his competitor. The reality bites, but in the end - it is about warm relations between humans... Hightly recommend!\n",
      "1\n",
      "10\n"
     ]
    }
   ],
   "source": [
    "print(X_train[24990])\n",
    "print(y1_tone_train[24990])\n",
    "print(y2_score_train[24990])"
   ]
  },
  {
   "cell_type": "code",
   "execution_count": 57,
   "metadata": {
    "collapsed": false,
    "pycharm": {
     "name": "#%%\n"
    }
   },
   "outputs": [],
   "source": [
    "stemmer = SnowballStemmer(language=\"english\")\n",
    "stop_words = stopwords.words(\"english\")\n",
    "\n",
    "def review_to_tokens(review):\n",
    "    tokens = word_tokenize(review, language=\"english\")\n",
    "    tokens = [i for i in tokens if i not in string.punctuation]\n",
    "    tokens = [i for i in tokens if i not in stop_words]\n",
    "    tokens = [stemmer.stem(i) for i  in tokens]\n",
    "    return tokens"
   ]
  },
  {
   "cell_type": "code",
   "execution_count": 58,
   "metadata": {
    "collapsed": false,
    "pycharm": {
     "name": "#%%\n"
    }
   },
   "outputs": [],
   "source": [
    "vectorizer = TfidfVectorizer(tokenizer=review_to_tokens)\n",
    "X_train = vectorizer.fit_transform(X_train)\n",
    "X_test = vectorizer.transform(X_test)"
   ]
  },
  {
   "cell_type": "code",
   "execution_count": 59,
   "metadata": {
    "collapsed": false,
    "pycharm": {
     "name": "#%%\n"
    }
   },
   "outputs": [],
   "source": [
    "tone_classifier = LogisticRegression(penalty=\"l2\", random_state=42, C=1.2, solver=\"saga\")\n",
    "tone_model = tone_classifier.fit(X_train, y1_tone_train)\n",
    "y1_tone_pred = tone_model.predict(X_test)"
   ]
  },
  {
   "cell_type": "code",
   "execution_count": 67,
   "metadata": {
    "collapsed": false,
    "pycharm": {
     "name": "#%%\n"
    }
   },
   "outputs": [
    {
     "name": "stdout",
     "output_type": "stream",
     "text": [
      "              precision    recall  f1-score   support\n",
      "\n",
      "           0       0.88      0.88      0.88     12500\n",
      "           1       0.88      0.88      0.88     12500\n",
      "\n",
      "    accuracy                           0.88     25000\n",
      "   macro avg       0.88      0.88      0.88     25000\n",
      "weighted avg       0.88      0.88      0.88     25000\n",
      "\n",
      "0.881457749299159\n",
      "0.8804\n",
      "0.881\n"
     ]
    },
    {
     "data": {
      "image/png": "[encoded data removed]",
      "text/plain": [
       "<Figure size 720x720 with 2 Axes>"
      ]
     },
     "metadata": {
      "needs_background": "light"
     },
     "output_type": "display_data"
    }
   ],
   "source": [
    "import scikitplot as skplt\n",
    "from sklearn.metrics import roc_auc_score\n",
    "from sklearn.metrics import classification_report\n",
    "\n",
    "print(classification_report(y_true=y1_tone_test, y_pred=y1_tone_pred))\n",
    "print(precision_score(y_true=y1_tone_test, y_pred=y1_tone_pred))\n",
    "print(recall_score(y_true=y1_tone_test, y_pred=y1_tone_pred))\n",
    "print(accuracy_score(y_true=y1_tone_test, y_pred=y1_tone_pred))\n",
    "ConfusionMatrixDisplay.from_predictions(y_true=y1_tone_test, y_pred=y1_tone_pred)\n",
    "plt.savefig(\"Graphs/tone_confusion_matrix.png\")\n",
    "plt.show()"
   ]
  },
  {
   "cell_type": "code",
   "execution_count": null,
   "metadata": {
    "collapsed": false,
    "pycharm": {
     "name": "#%%\n"
    }
   },
   "outputs": [],
   "source": [
    "y_probas = tone_model.predict_proba(X_test)\n",
    "skplt.metrics.plot_roc_curve(y1_tone_test, y_probas)\n",
    "plt.savefig(\"Graphs/roc_auc_curve_tone.png\")\n",
    "plt.show()"
   ]
  },
  {
   "cell_type": "code",
   "execution_count": 69,
   "metadata": {
    "collapsed": false,
    "pycharm": {
     "name": "#%%\n"
    }
   },
   "outputs": [],
   "source": [
    "temp_score = y2_score_train\n",
    "\n",
    "def cut_n (y_train, n, target):\n",
    "    target_indxs = []\n",
    "    for i in range(len(y_train)):\n",
    "        if int(y2_score_train[i]) == target:\n",
    "            target_indxs.append(i)\n",
    "    return target_indxs[n:]\n",
    "\n",
    "indxs = [*cut_n(y2_score_train, 3000, 10), *cut_n(y2_score_train, 3000, 1)]"
   ]
  },
  {
   "cell_type": "code",
   "execution_count": 70,
   "metadata": {
    "collapsed": false,
    "pycharm": {
     "name": "#%%\n"
    }
   },
   "outputs": [
    {
     "data": {
      "image/png": "[encoded data removed]",
      "text/plain": [
       "<Figure size 720x720 with 1 Axes>"
      ]
     },
     "metadata": {
      "needs_background": "light"
     },
     "output_type": "display_data"
    }
   ],
   "source": [
    "import seaborn as sns\n",
    "\n",
    "sns.histplot(data=y2_score_train,\n",
    "            fill=True,\n",
    "            alpha=0.1,\n",
    "            palette=\"crest\",\n",
    "            color=\"b\",\n",
    "            linewidth=0.2\n",
    "             )\n",
    "sns.histplot(data=y2_score_test,\n",
    "            fill=True,\n",
    "            alpha=0.6,\n",
    "            color=\"y\",\n",
    "            linewidth=0.2\n",
    "             )\n",
    "plt.legend([\"Train\", \"Test\"])\n",
    "plt.xlabel(\"Score\")\n",
    "plt.rcParams[\"figure.figsize\"] = (10,10)\n",
    "plt.savefig(\"Graphs/score_test_hist.png\")\n",
    "plt.show()"
   ]
  },
  {
   "cell_type": "code",
   "execution_count": 71,
   "metadata": {
    "collapsed": false,
    "pycharm": {
     "name": "#%%\n"
    }
   },
   "outputs": [],
   "source": [
    "from sklearn.metrics import log_loss\n",
    "from sklearn.svm import SVC\n",
    "score_classifier = LogisticRegression(penalty=\"l2\", random_state=42, C=1, solver=\"saga\")\n",
    "#score_classifier = SVC(kernel=\"linear\", C=1.5, random_state=42)\n",
    "score_model = score_classifier.fit(X_train, y2_score_train)\n",
    "y2_score_pred = score_model.predict(X_test)"
   ]
  },
  {
   "cell_type": "code",
   "execution_count": 72,
   "metadata": {
    "collapsed": false,
    "pycharm": {
     "name": "#%%\n"
    }
   },
   "outputs": [
    {
     "name": "stdout",
     "output_type": "stream",
     "text": [
      "0.44204\n"
     ]
    },
    {
     "data": {
      "image/png": "[encoded data removed]",
      "text/plain": [
       "<Figure size 720x720 with 2 Axes>"
      ]
     },
     "metadata": {
      "needs_background": "light"
     },
     "output_type": "display_data"
    }
   ],
   "source": [
    "#print(log_loss(y_true=y2_score_test, y_pred=y2_score_pred))\n",
    "print(f1_score(y_true=y2_score_test, y_pred=y2_score_pred, average=\"micro\"))\n",
    "ConfusionMatrixDisplay.from_predictions(y_true=y2_score_test, y_pred=y2_score_pred)\n",
    "plt.savefig(\"Graphs/score_confusion_matrix.png\")\n",
    "plt.show()"
   ]
  },
  {
   "cell_type": "code",
   "execution_count": 73,
   "metadata": {
    "collapsed": false,
    "pycharm": {
     "name": "#%%\n"
    }
   },
   "outputs": [],
   "source": [
    "#to_pickle(vectorizer.vocabulary_, \"vect_vocab.pkl\")\n",
    "#to_pickle(tone_model, \"tone_model.pkl\")\n",
    "to_pickle(score_model, \"score_model.pkl\")"
   ]
  },
  {
   "cell_type": "code",
   "execution_count": 74,
   "metadata": {
    "collapsed": false,
    "pycharm": {
     "name": "#%%\n"
    }
   },
   "outputs": [
    {
     "name": "stdout",
     "output_type": "stream",
     "text": [
      "['10']\n"
     ]
    }
   ],
   "source": [
    "print(score_model.predict(vectorizer.transform([\"Great!\"])))"
   ]
  },
  {
   "cell_type": "code",
   "execution_count": null,
   "metadata": {
    "collapsed": false,
    "pycharm": {
     "name": "#%%"
    }
   },
   "outputs": [],
   "source": [
    "# calculate the fpr and tpr for all thresholds of the classification\n",
    "import scikitplot as skplt\n",
    "from sklearn.metrics import roc_auc_score\n",
    "print(roc_auc_score(y_true=y2_score_test, y_score=score_model.predict_proba(X_test), multi_class='ovr'))\n",
    "y_true = y2_score_test\n",
    "y_probas = score_model.predict_proba(X_test)\n",
    "skplt.metrics.plot_roc_curve(y_true, y_probas)\n",
    "plt.savefig(\"Graphs/roc_auc_curve_score.png\")\n",
    "plt.show()\n",
    "\n"
   ]
  }
 ],
 "metadata": {
  "kernelspec": {
   "display_name": "Python 3",
   "language": "python",
   "name": "python3"
  },
  "language_info": {
   "codemirror_mode": {
    "name": "ipython",
    "version": 2
   },
   "file_extension": ".py",
   "mimetype": "text/x-python",
   "name": "python",
   "nbconvert_exporter": "python",
   "pygments_lexer": "ipython2",
   "version": "2.7.6"
  }
 },
 "nbformat": 4,
 "nbformat_minor": 0
}
